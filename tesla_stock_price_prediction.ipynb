{
  "nbformat": 4,
  "nbformat_minor": 0,
  "metadata": {
    "colab": {
      "provenance": []
    },
    "kernelspec": {
      "name": "python3",
      "display_name": "Python 3"
    },
    "language_info": {
      "name": "python"
    }
  },
  "cells": [
    {
      "cell_type": "markdown",
      "source": [
        "# **Data Preprocessing**"
      ],
      "metadata": {
        "id": "wwdNNt7eSgvN"
      }
    },
    {
      "cell_type": "code",
      "execution_count": 85,
      "metadata": {
        "id": "rgClAl1qSZl3"
      },
      "outputs": [],
      "source": [
        "import pandas as pd\n",
        "import numpy as np\n",
        "from sklearn.preprocessing import MinMaxScaler"
      ]
    },
    {
      "cell_type": "code",
      "source": [
        "# Extract the ith column from a dataset\n",
        "def extract_column(dataset, i):\n",
        "    df = pd.read_csv(dataset)\n",
        "    column = df.iloc[:, [i]]\n",
        "    scaler = MinMaxScaler(feature_range=(0, 1))\n",
        "    column = scaler.fit_transform(column).flatten()     # Normalise the column values into (0,1) range\n",
        "    return df, column"
      ],
      "metadata": {
        "id": "1RQQc2zqSovD"
      },
      "execution_count": 109,
      "outputs": []
    },
    {
      "cell_type": "code",
      "source": [
        "# Split the sequential data into train and test sets\n",
        "def get_train_test(data, split_percent):\n",
        "    n = len(data)\n",
        "    split = int(n * split_percent)\n",
        "    train = data[:split]\n",
        "    test = data[split:]\n",
        "    return train, test"
      ],
      "metadata": {
        "id": "iZZ_P5D0Sqa2"
      },
      "execution_count": 87,
      "outputs": []
    },
    {
      "cell_type": "code",
      "source": [
        "# Reshape the sequential data into a target variable set and feature sets\n",
        "def get_XY(data, time_steps):\n",
        "    y_indexes = np.arange(time_steps, len(data), time_steps)\n",
        "    y = data[y_indexes]\n",
        "    X_rows = len(y)\n",
        "    X = data[range(X_rows*time_steps)]\n",
        "    X = np.reshape(X, (X_rows, time_steps, 1))\n",
        "    return X, y"
      ],
      "metadata": {
        "id": "b41Ztee0Ssa3"
      },
      "execution_count": 88,
      "outputs": []
    },
    {
      "cell_type": "markdown",
      "source": [
        "# **Build, Train & Test your RNN**\n"
      ],
      "metadata": {
        "id": "jazI9_mTSxAt"
      }
    },
    {
      "cell_type": "code",
      "source": [
        "import tensorflow as tf"
      ],
      "metadata": {
        "id": "BPoDCrfUSyM2"
      },
      "execution_count": 89,
      "outputs": []
    },
    {
      "cell_type": "code",
      "source": [
        "# Load the sequential data\n",
        "df, ts = extract_column('Tasla_Stock_Updated_V2.csv', 3)\n",
        "\n",
        "# Split the data into train and test sets (80/20 split)\n",
        "train, test = get_train_test(ts, 0.8)\n",
        "\n",
        "# Reshape the train and test sets into features (X) and target (y)\n",
        "X_train, y_train, = get_XY(train, 12)\n",
        "X_test, y_test = get_XY(test, 12)\n",
        "\n",
        "# Build the model\n",
        "RNN_model = tf.keras.Sequential([\n",
        "    tf.keras.Input(shape=(12, 1)),\n",
        "    tf.keras.layers.SimpleRNN(16, activation='tanh'),\n",
        "    tf.keras.layers.Dense(1, 'tanh')\n",
        "])\n",
        "\n",
        "# Compile the model\n",
        "RNN_model.compile(optimizer='adam', loss='mean_squared_error')\n",
        "\n",
        "# Train the model\n",
        "train_history = RNN_model.fit(X_train, y_train, epochs=100, batch_size=32)\n",
        "\n",
        "# Evaluate the model on the test set\n",
        "loss = RNN_model.evaluate(X_test, y_test)\n",
        "\n",
        "# Print loss\n",
        "print(f'Test Loss: {loss:.4f}')"
      ],
      "metadata": {
        "id": "JmoZZhjpS1BB",
        "colab": {
          "base_uri": "https://localhost:8080/"
        },
        "outputId": "d5d2edbe-d8ce-4ca4-96f9-2fa29498c9ed"
      },
      "execution_count": 122,
      "outputs": [
        {
          "output_type": "stream",
          "name": "stdout",
          "text": [
            "Epoch 1/100\n",
            "\u001b[1m5/5\u001b[0m \u001b[32m━━━━━━━━━━━━━━━━━━━━\u001b[0m\u001b[37m\u001b[0m \u001b[1m2s\u001b[0m 18ms/step - loss: 0.0247\n",
            "Epoch 2/100\n",
            "\u001b[1m5/5\u001b[0m \u001b[32m━━━━━━━━━━━━━━━━━━━━\u001b[0m\u001b[37m\u001b[0m \u001b[1m0s\u001b[0m 19ms/step - loss: 0.0091\n",
            "Epoch 3/100\n",
            "\u001b[1m5/5\u001b[0m \u001b[32m━━━━━━━━━━━━━━━━━━━━\u001b[0m\u001b[37m\u001b[0m \u001b[1m0s\u001b[0m 15ms/step - loss: 0.0043\n",
            "Epoch 4/100\n",
            "\u001b[1m5/5\u001b[0m \u001b[32m━━━━━━━━━━━━━━━━━━━━\u001b[0m\u001b[37m\u001b[0m \u001b[1m0s\u001b[0m 14ms/step - loss: 0.0018\n",
            "Epoch 5/100\n",
            "\u001b[1m5/5\u001b[0m \u001b[32m━━━━━━━━━━━━━━━━━━━━\u001b[0m\u001b[37m\u001b[0m \u001b[1m0s\u001b[0m 14ms/step - loss: 0.0028\n",
            "Epoch 6/100\n",
            "\u001b[1m5/5\u001b[0m \u001b[32m━━━━━━━━━━━━━━━━━━━━\u001b[0m\u001b[37m\u001b[0m \u001b[1m0s\u001b[0m 13ms/step - loss: 0.0019\n",
            "Epoch 7/100\n",
            "\u001b[1m5/5\u001b[0m \u001b[32m━━━━━━━━━━━━━━━━━━━━\u001b[0m\u001b[37m\u001b[0m \u001b[1m0s\u001b[0m 14ms/step - loss: 0.0015\n",
            "Epoch 8/100\n",
            "\u001b[1m5/5\u001b[0m \u001b[32m━━━━━━━━━━━━━━━━━━━━\u001b[0m\u001b[37m\u001b[0m \u001b[1m0s\u001b[0m 15ms/step - loss: 0.0018\n",
            "Epoch 9/100\n",
            "\u001b[1m5/5\u001b[0m \u001b[32m━━━━━━━━━━━━━━━━━━━━\u001b[0m\u001b[37m\u001b[0m \u001b[1m0s\u001b[0m 14ms/step - loss: 0.0013\n",
            "Epoch 10/100\n",
            "\u001b[1m5/5\u001b[0m \u001b[32m━━━━━━━━━━━━━━━━━━━━\u001b[0m\u001b[37m\u001b[0m \u001b[1m0s\u001b[0m 15ms/step - loss: 0.0016\n",
            "Epoch 11/100\n",
            "\u001b[1m5/5\u001b[0m \u001b[32m━━━━━━━━━━━━━━━━━━━━\u001b[0m\u001b[37m\u001b[0m \u001b[1m0s\u001b[0m 15ms/step - loss: 0.0016\n",
            "Epoch 12/100\n",
            "\u001b[1m5/5\u001b[0m \u001b[32m━━━━━━━━━━━━━━━━━━━━\u001b[0m\u001b[37m\u001b[0m \u001b[1m0s\u001b[0m 12ms/step - loss: 0.0013    \n",
            "Epoch 13/100\n",
            "\u001b[1m5/5\u001b[0m \u001b[32m━━━━━━━━━━━━━━━━━━━━\u001b[0m\u001b[37m\u001b[0m \u001b[1m0s\u001b[0m 14ms/step - loss: 0.0011    \n",
            "Epoch 14/100\n",
            "\u001b[1m5/5\u001b[0m \u001b[32m━━━━━━━━━━━━━━━━━━━━\u001b[0m\u001b[37m\u001b[0m \u001b[1m0s\u001b[0m 13ms/step - loss: 0.0010    \n",
            "Epoch 15/100\n",
            "\u001b[1m5/5\u001b[0m \u001b[32m━━━━━━━━━━━━━━━━━━━━\u001b[0m\u001b[37m\u001b[0m \u001b[1m0s\u001b[0m 16ms/step - loss: 0.0011\n",
            "Epoch 16/100\n",
            "\u001b[1m5/5\u001b[0m \u001b[32m━━━━━━━━━━━━━━━━━━━━\u001b[0m\u001b[37m\u001b[0m \u001b[1m0s\u001b[0m 16ms/step - loss: 7.0982e-04\n",
            "Epoch 17/100\n",
            "\u001b[1m5/5\u001b[0m \u001b[32m━━━━━━━━━━━━━━━━━━━━\u001b[0m\u001b[37m\u001b[0m \u001b[1m0s\u001b[0m 16ms/step - loss: 9.6122e-04\n",
            "Epoch 18/100\n",
            "\u001b[1m5/5\u001b[0m \u001b[32m━━━━━━━━━━━━━━━━━━━━\u001b[0m\u001b[37m\u001b[0m \u001b[1m0s\u001b[0m 17ms/step - loss: 9.2769e-04\n",
            "Epoch 19/100\n",
            "\u001b[1m5/5\u001b[0m \u001b[32m━━━━━━━━━━━━━━━━━━━━\u001b[0m\u001b[37m\u001b[0m \u001b[1m0s\u001b[0m 18ms/step - loss: 7.7577e-04\n",
            "Epoch 20/100\n",
            "\u001b[1m5/5\u001b[0m \u001b[32m━━━━━━━━━━━━━━━━━━━━\u001b[0m\u001b[37m\u001b[0m \u001b[1m0s\u001b[0m 17ms/step - loss: 0.0011\n",
            "Epoch 21/100\n",
            "\u001b[1m5/5\u001b[0m \u001b[32m━━━━━━━━━━━━━━━━━━━━\u001b[0m\u001b[37m\u001b[0m \u001b[1m0s\u001b[0m 16ms/step - loss: 9.0407e-04\n",
            "Epoch 22/100\n",
            "\u001b[1m5/5\u001b[0m \u001b[32m━━━━━━━━━━━━━━━━━━━━\u001b[0m\u001b[37m\u001b[0m \u001b[1m0s\u001b[0m 13ms/step - loss: 7.0049e-04\n",
            "Epoch 23/100\n",
            "\u001b[1m5/5\u001b[0m \u001b[32m━━━━━━━━━━━━━━━━━━━━\u001b[0m\u001b[37m\u001b[0m \u001b[1m0s\u001b[0m 9ms/step - loss: 7.7987e-04 \n",
            "Epoch 24/100\n",
            "\u001b[1m5/5\u001b[0m \u001b[32m━━━━━━━━━━━━━━━━━━━━\u001b[0m\u001b[37m\u001b[0m \u001b[1m0s\u001b[0m 10ms/step - loss: 5.3884e-04\n",
            "Epoch 25/100\n",
            "\u001b[1m5/5\u001b[0m \u001b[32m━━━━━━━━━━━━━━━━━━━━\u001b[0m\u001b[37m\u001b[0m \u001b[1m0s\u001b[0m 10ms/step - loss: 7.3970e-04\n",
            "Epoch 26/100\n",
            "\u001b[1m5/5\u001b[0m \u001b[32m━━━━━━━━━━━━━━━━━━━━\u001b[0m\u001b[37m\u001b[0m \u001b[1m0s\u001b[0m 10ms/step - loss: 8.5925e-04\n",
            "Epoch 27/100\n",
            "\u001b[1m5/5\u001b[0m \u001b[32m━━━━━━━━━━━━━━━━━━━━\u001b[0m\u001b[37m\u001b[0m \u001b[1m0s\u001b[0m 9ms/step - loss: 7.2209e-04 \n",
            "Epoch 28/100\n",
            "\u001b[1m5/5\u001b[0m \u001b[32m━━━━━━━━━━━━━━━━━━━━\u001b[0m\u001b[37m\u001b[0m \u001b[1m0s\u001b[0m 9ms/step - loss: 6.9574e-04 \n",
            "Epoch 29/100\n",
            "\u001b[1m5/5\u001b[0m \u001b[32m━━━━━━━━━━━━━━━━━━━━\u001b[0m\u001b[37m\u001b[0m \u001b[1m0s\u001b[0m 9ms/step - loss: 4.9829e-04 \n",
            "Epoch 30/100\n",
            "\u001b[1m5/5\u001b[0m \u001b[32m━━━━━━━━━━━━━━━━━━━━\u001b[0m\u001b[37m\u001b[0m \u001b[1m0s\u001b[0m 9ms/step - loss: 5.1999e-04 \n",
            "Epoch 31/100\n",
            "\u001b[1m5/5\u001b[0m \u001b[32m━━━━━━━━━━━━━━━━━━━━\u001b[0m\u001b[37m\u001b[0m \u001b[1m0s\u001b[0m 11ms/step - loss: 4.5796e-04\n",
            "Epoch 32/100\n",
            "\u001b[1m5/5\u001b[0m \u001b[32m━━━━━━━━━━━━━━━━━━━━\u001b[0m\u001b[37m\u001b[0m \u001b[1m0s\u001b[0m 9ms/step - loss: 4.7650e-04 \n",
            "Epoch 33/100\n",
            "\u001b[1m5/5\u001b[0m \u001b[32m━━━━━━━━━━━━━━━━━━━━\u001b[0m\u001b[37m\u001b[0m \u001b[1m0s\u001b[0m 9ms/step - loss: 6.8894e-04 \n",
            "Epoch 34/100\n",
            "\u001b[1m5/5\u001b[0m \u001b[32m━━━━━━━━━━━━━━━━━━━━\u001b[0m\u001b[37m\u001b[0m \u001b[1m0s\u001b[0m 8ms/step - loss: 5.5013e-04 \n",
            "Epoch 35/100\n",
            "\u001b[1m5/5\u001b[0m \u001b[32m━━━━━━━━━━━━━━━━━━━━\u001b[0m\u001b[37m\u001b[0m \u001b[1m0s\u001b[0m 9ms/step - loss: 4.9700e-04 \n",
            "Epoch 36/100\n",
            "\u001b[1m5/5\u001b[0m \u001b[32m━━━━━━━━━━━━━━━━━━━━\u001b[0m\u001b[37m\u001b[0m \u001b[1m0s\u001b[0m 9ms/step - loss: 4.6419e-04 \n",
            "Epoch 37/100\n",
            "\u001b[1m5/5\u001b[0m \u001b[32m━━━━━━━━━━━━━━━━━━━━\u001b[0m\u001b[37m\u001b[0m \u001b[1m0s\u001b[0m 9ms/step - loss: 6.7429e-04 \n",
            "Epoch 38/100\n",
            "\u001b[1m5/5\u001b[0m \u001b[32m━━━━━━━━━━━━━━━━━━━━\u001b[0m\u001b[37m\u001b[0m \u001b[1m0s\u001b[0m 9ms/step - loss: 4.8348e-04 \n",
            "Epoch 39/100\n",
            "\u001b[1m5/5\u001b[0m \u001b[32m━━━━━━━━━━━━━━━━━━━━\u001b[0m\u001b[37m\u001b[0m \u001b[1m0s\u001b[0m 10ms/step - loss: 5.9671e-04\n",
            "Epoch 40/100\n",
            "\u001b[1m5/5\u001b[0m \u001b[32m━━━━━━━━━━━━━━━━━━━━\u001b[0m\u001b[37m\u001b[0m \u001b[1m0s\u001b[0m 9ms/step - loss: 5.8736e-04 \n",
            "Epoch 41/100\n",
            "\u001b[1m5/5\u001b[0m \u001b[32m━━━━━━━━━━━━━━━━━━━━\u001b[0m\u001b[37m\u001b[0m \u001b[1m0s\u001b[0m 9ms/step - loss: 6.2192e-04 \n",
            "Epoch 42/100\n",
            "\u001b[1m5/5\u001b[0m \u001b[32m━━━━━━━━━━━━━━━━━━━━\u001b[0m\u001b[37m\u001b[0m \u001b[1m0s\u001b[0m 9ms/step - loss: 5.2677e-04 \n",
            "Epoch 43/100\n",
            "\u001b[1m5/5\u001b[0m \u001b[32m━━━━━━━━━━━━━━━━━━━━\u001b[0m\u001b[37m\u001b[0m \u001b[1m0s\u001b[0m 10ms/step - loss: 5.4133e-04\n",
            "Epoch 44/100\n",
            "\u001b[1m5/5\u001b[0m \u001b[32m━━━━━━━━━━━━━━━━━━━━\u001b[0m\u001b[37m\u001b[0m \u001b[1m0s\u001b[0m 9ms/step - loss: 4.7811e-04 \n",
            "Epoch 45/100\n",
            "\u001b[1m5/5\u001b[0m \u001b[32m━━━━━━━━━━━━━━━━━━━━\u001b[0m\u001b[37m\u001b[0m \u001b[1m0s\u001b[0m 10ms/step - loss: 7.1813e-04\n",
            "Epoch 46/100\n",
            "\u001b[1m5/5\u001b[0m \u001b[32m━━━━━━━━━━━━━━━━━━━━\u001b[0m\u001b[37m\u001b[0m \u001b[1m0s\u001b[0m 13ms/step - loss: 5.0321e-04\n",
            "Epoch 47/100\n",
            "\u001b[1m5/5\u001b[0m \u001b[32m━━━━━━━━━━━━━━━━━━━━\u001b[0m\u001b[37m\u001b[0m \u001b[1m0s\u001b[0m 9ms/step - loss: 4.1933e-04 \n",
            "Epoch 48/100\n",
            "\u001b[1m5/5\u001b[0m \u001b[32m━━━━━━━━━━━━━━━━━━━━\u001b[0m\u001b[37m\u001b[0m \u001b[1m0s\u001b[0m 11ms/step - loss: 5.3439e-04\n",
            "Epoch 49/100\n",
            "\u001b[1m5/5\u001b[0m \u001b[32m━━━━━━━━━━━━━━━━━━━━\u001b[0m\u001b[37m\u001b[0m \u001b[1m0s\u001b[0m 9ms/step - loss: 5.7653e-04 \n",
            "Epoch 50/100\n",
            "\u001b[1m5/5\u001b[0m \u001b[32m━━━━━━━━━━━━━━━━━━━━\u001b[0m\u001b[37m\u001b[0m \u001b[1m0s\u001b[0m 9ms/step - loss: 3.7390e-04 \n",
            "Epoch 51/100\n",
            "\u001b[1m5/5\u001b[0m \u001b[32m━━━━━━━━━━━━━━━━━━━━\u001b[0m\u001b[37m\u001b[0m \u001b[1m0s\u001b[0m 11ms/step - loss: 4.3481e-04\n",
            "Epoch 52/100\n",
            "\u001b[1m5/5\u001b[0m \u001b[32m━━━━━━━━━━━━━━━━━━━━\u001b[0m\u001b[37m\u001b[0m \u001b[1m0s\u001b[0m 9ms/step - loss: 5.2293e-04 \n",
            "Epoch 53/100\n",
            "\u001b[1m5/5\u001b[0m \u001b[32m━━━━━━━━━━━━━━━━━━━━\u001b[0m\u001b[37m\u001b[0m \u001b[1m0s\u001b[0m 9ms/step - loss: 5.8320e-04 \n",
            "Epoch 54/100\n",
            "\u001b[1m5/5\u001b[0m \u001b[32m━━━━━━━━━━━━━━━━━━━━\u001b[0m\u001b[37m\u001b[0m \u001b[1m0s\u001b[0m 10ms/step - loss: 6.5679e-04 \n",
            "Epoch 55/100\n",
            "\u001b[1m5/5\u001b[0m \u001b[32m━━━━━━━━━━━━━━━━━━━━\u001b[0m\u001b[37m\u001b[0m \u001b[1m0s\u001b[0m 9ms/step - loss: 4.7418e-04 \n",
            "Epoch 56/100\n",
            "\u001b[1m5/5\u001b[0m \u001b[32m━━━━━━━━━━━━━━━━━━━━\u001b[0m\u001b[37m\u001b[0m \u001b[1m0s\u001b[0m 9ms/step - loss: 4.7489e-04 \n",
            "Epoch 57/100\n",
            "\u001b[1m5/5\u001b[0m \u001b[32m━━━━━━━━━━━━━━━━━━━━\u001b[0m\u001b[37m\u001b[0m \u001b[1m0s\u001b[0m 9ms/step - loss: 5.7462e-04 \n",
            "Epoch 58/100\n",
            "\u001b[1m5/5\u001b[0m \u001b[32m━━━━━━━━━━━━━━━━━━━━\u001b[0m\u001b[37m\u001b[0m \u001b[1m0s\u001b[0m 9ms/step - loss: 3.9078e-04 \n",
            "Epoch 59/100\n",
            "\u001b[1m5/5\u001b[0m \u001b[32m━━━━━━━━━━━━━━━━━━━━\u001b[0m\u001b[37m\u001b[0m \u001b[1m0s\u001b[0m 10ms/step - loss: 6.5345e-04\n",
            "Epoch 60/100\n",
            "\u001b[1m5/5\u001b[0m \u001b[32m━━━━━━━━━━━━━━━━━━━━\u001b[0m\u001b[37m\u001b[0m \u001b[1m0s\u001b[0m 9ms/step - loss: 4.2967e-04 \n",
            "Epoch 61/100\n",
            "\u001b[1m5/5\u001b[0m \u001b[32m━━━━━━━━━━━━━━━━━━━━\u001b[0m\u001b[37m\u001b[0m \u001b[1m0s\u001b[0m 9ms/step - loss: 4.4122e-04 \n",
            "Epoch 62/100\n",
            "\u001b[1m5/5\u001b[0m \u001b[32m━━━━━━━━━━━━━━━━━━━━\u001b[0m\u001b[37m\u001b[0m \u001b[1m0s\u001b[0m 9ms/step - loss: 5.6628e-04 \n",
            "Epoch 63/100\n",
            "\u001b[1m5/5\u001b[0m \u001b[32m━━━━━━━━━━━━━━━━━━━━\u001b[0m\u001b[37m\u001b[0m \u001b[1m0s\u001b[0m 8ms/step - loss: 4.7955e-04 \n",
            "Epoch 64/100\n",
            "\u001b[1m5/5\u001b[0m \u001b[32m━━━━━━━━━━━━━━━━━━━━\u001b[0m\u001b[37m\u001b[0m \u001b[1m0s\u001b[0m 9ms/step - loss: 4.4669e-04 \n",
            "Epoch 65/100\n",
            "\u001b[1m5/5\u001b[0m \u001b[32m━━━━━━━━━━━━━━━━━━━━\u001b[0m\u001b[37m\u001b[0m \u001b[1m0s\u001b[0m 9ms/step - loss: 3.8693e-04 \n",
            "Epoch 66/100\n",
            "\u001b[1m5/5\u001b[0m \u001b[32m━━━━━━━━━━━━━━━━━━━━\u001b[0m\u001b[37m\u001b[0m \u001b[1m0s\u001b[0m 10ms/step - loss: 5.6387e-04\n",
            "Epoch 67/100\n",
            "\u001b[1m5/5\u001b[0m \u001b[32m━━━━━━━━━━━━━━━━━━━━\u001b[0m\u001b[37m\u001b[0m \u001b[1m0s\u001b[0m 9ms/step - loss: 3.5435e-04 \n",
            "Epoch 68/100\n",
            "\u001b[1m5/5\u001b[0m \u001b[32m━━━━━━━━━━━━━━━━━━━━\u001b[0m\u001b[37m\u001b[0m \u001b[1m0s\u001b[0m 9ms/step - loss: 4.8459e-04 \n",
            "Epoch 69/100\n",
            "\u001b[1m5/5\u001b[0m \u001b[32m━━━━━━━━━━━━━━━━━━━━\u001b[0m\u001b[37m\u001b[0m \u001b[1m0s\u001b[0m 9ms/step - loss: 5.1154e-04 \n",
            "Epoch 70/100\n",
            "\u001b[1m5/5\u001b[0m \u001b[32m━━━━━━━━━━━━━━━━━━━━\u001b[0m\u001b[37m\u001b[0m \u001b[1m0s\u001b[0m 9ms/step - loss: 4.9879e-04 \n",
            "Epoch 71/100\n",
            "\u001b[1m5/5\u001b[0m \u001b[32m━━━━━━━━━━━━━━━━━━━━\u001b[0m\u001b[37m\u001b[0m \u001b[1m0s\u001b[0m 8ms/step - loss: 3.8811e-04 \n",
            "Epoch 72/100\n",
            "\u001b[1m5/5\u001b[0m \u001b[32m━━━━━━━━━━━━━━━━━━━━\u001b[0m\u001b[37m\u001b[0m \u001b[1m0s\u001b[0m 9ms/step - loss: 3.4057e-04 \n",
            "Epoch 73/100\n",
            "\u001b[1m5/5\u001b[0m \u001b[32m━━━━━━━━━━━━━━━━━━━━\u001b[0m\u001b[37m\u001b[0m \u001b[1m0s\u001b[0m 9ms/step - loss: 5.3689e-04 \n",
            "Epoch 74/100\n",
            "\u001b[1m5/5\u001b[0m \u001b[32m━━━━━━━━━━━━━━━━━━━━\u001b[0m\u001b[37m\u001b[0m \u001b[1m0s\u001b[0m 14ms/step - loss: 3.2972e-04\n",
            "Epoch 75/100\n",
            "\u001b[1m5/5\u001b[0m \u001b[32m━━━━━━━━━━━━━━━━━━━━\u001b[0m\u001b[37m\u001b[0m \u001b[1m0s\u001b[0m 10ms/step - loss: 5.0436e-04\n",
            "Epoch 76/100\n",
            "\u001b[1m5/5\u001b[0m \u001b[32m━━━━━━━━━━━━━━━━━━━━\u001b[0m\u001b[37m\u001b[0m \u001b[1m0s\u001b[0m 11ms/step - loss: 4.9816e-04\n",
            "Epoch 77/100\n",
            "\u001b[1m5/5\u001b[0m \u001b[32m━━━━━━━━━━━━━━━━━━━━\u001b[0m\u001b[37m\u001b[0m \u001b[1m0s\u001b[0m 10ms/step - loss: 6.4868e-04\n",
            "Epoch 78/100\n",
            "\u001b[1m5/5\u001b[0m \u001b[32m━━━━━━━━━━━━━━━━━━━━\u001b[0m\u001b[37m\u001b[0m \u001b[1m0s\u001b[0m 9ms/step - loss: 5.0405e-04 \n",
            "Epoch 79/100\n",
            "\u001b[1m5/5\u001b[0m \u001b[32m━━━━━━━━━━━━━━━━━━━━\u001b[0m\u001b[37m\u001b[0m \u001b[1m0s\u001b[0m 9ms/step - loss: 4.7562e-04 \n",
            "Epoch 80/100\n",
            "\u001b[1m5/5\u001b[0m \u001b[32m━━━━━━━━━━━━━━━━━━━━\u001b[0m\u001b[37m\u001b[0m \u001b[1m0s\u001b[0m 9ms/step - loss: 5.6906e-04 \n",
            "Epoch 81/100\n",
            "\u001b[1m5/5\u001b[0m \u001b[32m━━━━━━━━━━━━━━━━━━━━\u001b[0m\u001b[37m\u001b[0m \u001b[1m0s\u001b[0m 9ms/step - loss: 3.9263e-04 \n",
            "Epoch 82/100\n",
            "\u001b[1m5/5\u001b[0m \u001b[32m━━━━━━━━━━━━━━━━━━━━\u001b[0m\u001b[37m\u001b[0m \u001b[1m0s\u001b[0m 9ms/step - loss: 5.3370e-04 \n",
            "Epoch 83/100\n",
            "\u001b[1m5/5\u001b[0m \u001b[32m━━━━━━━━━━━━━━━━━━━━\u001b[0m\u001b[37m\u001b[0m \u001b[1m0s\u001b[0m 9ms/step - loss: 3.8432e-04 \n",
            "Epoch 84/100\n",
            "\u001b[1m5/5\u001b[0m \u001b[32m━━━━━━━━━━━━━━━━━━━━\u001b[0m\u001b[37m\u001b[0m \u001b[1m0s\u001b[0m 9ms/step - loss: 3.8267e-04 \n",
            "Epoch 85/100\n",
            "\u001b[1m5/5\u001b[0m \u001b[32m━━━━━━━━━━━━━━━━━━━━\u001b[0m\u001b[37m\u001b[0m \u001b[1m0s\u001b[0m 9ms/step - loss: 4.7226e-04 \n",
            "Epoch 86/100\n",
            "\u001b[1m5/5\u001b[0m \u001b[32m━━━━━━━━━━━━━━━━━━━━\u001b[0m\u001b[37m\u001b[0m \u001b[1m0s\u001b[0m 9ms/step - loss: 5.5391e-04 \n",
            "Epoch 87/100\n",
            "\u001b[1m5/5\u001b[0m \u001b[32m━━━━━━━━━━━━━━━━━━━━\u001b[0m\u001b[37m\u001b[0m \u001b[1m0s\u001b[0m 9ms/step - loss: 4.3890e-04 \n",
            "Epoch 88/100\n",
            "\u001b[1m5/5\u001b[0m \u001b[32m━━━━━━━━━━━━━━━━━━━━\u001b[0m\u001b[37m\u001b[0m \u001b[1m0s\u001b[0m 10ms/step - loss: 3.6568e-04\n",
            "Epoch 89/100\n",
            "\u001b[1m5/5\u001b[0m \u001b[32m━━━━━━━━━━━━━━━━━━━━\u001b[0m\u001b[37m\u001b[0m \u001b[1m0s\u001b[0m 12ms/step - loss: 3.3683e-04\n",
            "Epoch 90/100\n",
            "\u001b[1m5/5\u001b[0m \u001b[32m━━━━━━━━━━━━━━━━━━━━\u001b[0m\u001b[37m\u001b[0m \u001b[1m0s\u001b[0m 9ms/step - loss: 3.3290e-04 \n",
            "Epoch 91/100\n",
            "\u001b[1m5/5\u001b[0m \u001b[32m━━━━━━━━━━━━━━━━━━━━\u001b[0m\u001b[37m\u001b[0m \u001b[1m0s\u001b[0m 9ms/step - loss: 6.7695e-04\n",
            "Epoch 92/100\n",
            "\u001b[1m5/5\u001b[0m \u001b[32m━━━━━━━━━━━━━━━━━━━━\u001b[0m\u001b[37m\u001b[0m \u001b[1m0s\u001b[0m 9ms/step - loss: 3.9384e-04 \n",
            "Epoch 93/100\n",
            "\u001b[1m5/5\u001b[0m \u001b[32m━━━━━━━━━━━━━━━━━━━━\u001b[0m\u001b[37m\u001b[0m \u001b[1m0s\u001b[0m 9ms/step - loss: 5.8093e-04 \n",
            "Epoch 94/100\n",
            "\u001b[1m5/5\u001b[0m \u001b[32m━━━━━━━━━━━━━━━━━━━━\u001b[0m\u001b[37m\u001b[0m \u001b[1m0s\u001b[0m 9ms/step - loss: 4.4458e-04 \n",
            "Epoch 95/100\n",
            "\u001b[1m5/5\u001b[0m \u001b[32m━━━━━━━━━━━━━━━━━━━━\u001b[0m\u001b[37m\u001b[0m \u001b[1m0s\u001b[0m 10ms/step - loss: 3.7256e-04\n",
            "Epoch 96/100\n",
            "\u001b[1m5/5\u001b[0m \u001b[32m━━━━━━━━━━━━━━━━━━━━\u001b[0m\u001b[37m\u001b[0m \u001b[1m0s\u001b[0m 9ms/step - loss: 3.7595e-04 \n",
            "Epoch 97/100\n",
            "\u001b[1m5/5\u001b[0m \u001b[32m━━━━━━━━━━━━━━━━━━━━\u001b[0m\u001b[37m\u001b[0m \u001b[1m0s\u001b[0m 9ms/step - loss: 3.9780e-04 \n",
            "Epoch 98/100\n",
            "\u001b[1m5/5\u001b[0m \u001b[32m━━━━━━━━━━━━━━━━━━━━\u001b[0m\u001b[37m\u001b[0m \u001b[1m0s\u001b[0m 9ms/step - loss: 5.1166e-04 \n",
            "Epoch 99/100\n",
            "\u001b[1m5/5\u001b[0m \u001b[32m━━━━━━━━━━━━━━━━━━━━\u001b[0m\u001b[37m\u001b[0m \u001b[1m0s\u001b[0m 9ms/step - loss: 3.4276e-04 \n",
            "Epoch 100/100\n",
            "\u001b[1m5/5\u001b[0m \u001b[32m━━━━━━━━━━━━━━━━━━━━\u001b[0m\u001b[37m\u001b[0m \u001b[1m0s\u001b[0m 9ms/step - loss: 3.2048e-04 \n",
            "\u001b[1m2/2\u001b[0m \u001b[32m━━━━━━━━━━━━━━━━━━━━\u001b[0m\u001b[37m\u001b[0m \u001b[1m0s\u001b[0m 31ms/step - loss: 8.8223e-04 \n",
            "Test Loss: 0.0009\n"
          ]
        }
      ]
    },
    {
      "cell_type": "markdown",
      "source": [
        "#**Plot Metrics**"
      ],
      "metadata": {
        "id": "s_Mpk97mTF6B"
      }
    },
    {
      "cell_type": "code",
      "source": [
        "import matplotlib.pyplot as plt"
      ],
      "metadata": {
        "id": "HKE1Rut_cVhh"
      },
      "execution_count": 125,
      "outputs": []
    },
    {
      "cell_type": "code",
      "source": [
        "# Print a parameters table\n",
        "RNN_model.summary()"
      ],
      "metadata": {
        "colab": {
          "base_uri": "https://localhost:8080/",
          "height": 221
        },
        "id": "5cPRa54tStnV",
        "outputId": "aa4c5881-ce4d-489f-dcca-72f5a0aee741"
      },
      "execution_count": 126,
      "outputs": [
        {
          "output_type": "display_data",
          "data": {
            "text/plain": [
              "\u001b[1mModel: \"sequential_41\"\u001b[0m\n"
            ],
            "text/html": [
              "<pre style=\"white-space:pre;overflow-x:auto;line-height:normal;font-family:Menlo,'DejaVu Sans Mono',consolas,'Courier New',monospace\"><span style=\"font-weight: bold\">Model: \"sequential_41\"</span>\n",
              "</pre>\n"
            ]
          },
          "metadata": {}
        },
        {
          "output_type": "display_data",
          "data": {
            "text/plain": [
              "┏━━━━━━━━━━━━━━━━━━━━━━━━━━━━━━━━━┳━━━━━━━━━━━━━━━━━━━━━━━━┳━━━━━━━━━━━━━━━┓\n",
              "┃\u001b[1m \u001b[0m\u001b[1mLayer (type)                   \u001b[0m\u001b[1m \u001b[0m┃\u001b[1m \u001b[0m\u001b[1mOutput Shape          \u001b[0m\u001b[1m \u001b[0m┃\u001b[1m \u001b[0m\u001b[1m      Param #\u001b[0m\u001b[1m \u001b[0m┃\n",
              "┡━━━━━━━━━━━━━━━━━━━━━━━━━━━━━━━━━╇━━━━━━━━━━━━━━━━━━━━━━━━╇━━━━━━━━━━━━━━━┩\n",
              "│ simple_rnn_41 (\u001b[38;5;33mSimpleRNN\u001b[0m)       │ (\u001b[38;5;45mNone\u001b[0m, \u001b[38;5;34m16\u001b[0m)             │           \u001b[38;5;34m288\u001b[0m │\n",
              "├─────────────────────────────────┼────────────────────────┼───────────────┤\n",
              "│ dense_41 (\u001b[38;5;33mDense\u001b[0m)                │ (\u001b[38;5;45mNone\u001b[0m, \u001b[38;5;34m1\u001b[0m)              │            \u001b[38;5;34m17\u001b[0m │\n",
              "└─────────────────────────────────┴────────────────────────┴───────────────┘\n"
            ],
            "text/html": [
              "<pre style=\"white-space:pre;overflow-x:auto;line-height:normal;font-family:Menlo,'DejaVu Sans Mono',consolas,'Courier New',monospace\">┏━━━━━━━━━━━━━━━━━━━━━━━━━━━━━━━━━┳━━━━━━━━━━━━━━━━━━━━━━━━┳━━━━━━━━━━━━━━━┓\n",
              "┃<span style=\"font-weight: bold\"> Layer (type)                    </span>┃<span style=\"font-weight: bold\"> Output Shape           </span>┃<span style=\"font-weight: bold\">       Param # </span>┃\n",
              "┡━━━━━━━━━━━━━━━━━━━━━━━━━━━━━━━━━╇━━━━━━━━━━━━━━━━━━━━━━━━╇━━━━━━━━━━━━━━━┩\n",
              "│ simple_rnn_41 (<span style=\"color: #0087ff; text-decoration-color: #0087ff\">SimpleRNN</span>)       │ (<span style=\"color: #00d7ff; text-decoration-color: #00d7ff\">None</span>, <span style=\"color: #00af00; text-decoration-color: #00af00\">16</span>)             │           <span style=\"color: #00af00; text-decoration-color: #00af00\">288</span> │\n",
              "├─────────────────────────────────┼────────────────────────┼───────────────┤\n",
              "│ dense_41 (<span style=\"color: #0087ff; text-decoration-color: #0087ff\">Dense</span>)                │ (<span style=\"color: #00d7ff; text-decoration-color: #00d7ff\">None</span>, <span style=\"color: #00af00; text-decoration-color: #00af00\">1</span>)              │            <span style=\"color: #00af00; text-decoration-color: #00af00\">17</span> │\n",
              "└─────────────────────────────────┴────────────────────────┴───────────────┘\n",
              "</pre>\n"
            ]
          },
          "metadata": {}
        },
        {
          "output_type": "display_data",
          "data": {
            "text/plain": [
              "\u001b[1m Total params: \u001b[0m\u001b[38;5;34m917\u001b[0m (3.59 KB)\n"
            ],
            "text/html": [
              "<pre style=\"white-space:pre;overflow-x:auto;line-height:normal;font-family:Menlo,'DejaVu Sans Mono',consolas,'Courier New',monospace\"><span style=\"font-weight: bold\"> Total params: </span><span style=\"color: #00af00; text-decoration-color: #00af00\">917</span> (3.59 KB)\n",
              "</pre>\n"
            ]
          },
          "metadata": {}
        },
        {
          "output_type": "display_data",
          "data": {
            "text/plain": [
              "\u001b[1m Trainable params: \u001b[0m\u001b[38;5;34m305\u001b[0m (1.19 KB)\n"
            ],
            "text/html": [
              "<pre style=\"white-space:pre;overflow-x:auto;line-height:normal;font-family:Menlo,'DejaVu Sans Mono',consolas,'Courier New',monospace\"><span style=\"font-weight: bold\"> Trainable params: </span><span style=\"color: #00af00; text-decoration-color: #00af00\">305</span> (1.19 KB)\n",
              "</pre>\n"
            ]
          },
          "metadata": {}
        },
        {
          "output_type": "display_data",
          "data": {
            "text/plain": [
              "\u001b[1m Non-trainable params: \u001b[0m\u001b[38;5;34m0\u001b[0m (0.00 B)\n"
            ],
            "text/html": [
              "<pre style=\"white-space:pre;overflow-x:auto;line-height:normal;font-family:Menlo,'DejaVu Sans Mono',consolas,'Courier New',monospace\"><span style=\"font-weight: bold\"> Non-trainable params: </span><span style=\"color: #00af00; text-decoration-color: #00af00\">0</span> (0.00 B)\n",
              "</pre>\n"
            ]
          },
          "metadata": {}
        },
        {
          "output_type": "display_data",
          "data": {
            "text/plain": [
              "\u001b[1m Optimizer params: \u001b[0m\u001b[38;5;34m612\u001b[0m (2.39 KB)\n"
            ],
            "text/html": [
              "<pre style=\"white-space:pre;overflow-x:auto;line-height:normal;font-family:Menlo,'DejaVu Sans Mono',consolas,'Courier New',monospace\"><span style=\"font-weight: bold\"> Optimizer params: </span><span style=\"color: #00af00; text-decoration-color: #00af00\">612</span> (2.39 KB)\n",
              "</pre>\n"
            ]
          },
          "metadata": {}
        }
      ]
    },
    {
      "cell_type": "code",
      "source": [
        "# Plot a prediction & true value against time graph\n",
        "def plot_lo(predictions, true_values):\n",
        "  plt.plot(predictions, label='predicted value')\n",
        "  plt.plot(true_values, label='true value')\n",
        "  plt.xlabel('Observation')\n",
        "  plt.ylabel('Stock Price')\n",
        "  plt.legend(['predicted value', 'true value'])\n",
        "  plt.grid(True)\n",
        "  plt.show"
      ],
      "metadata": {
        "id": "LiS1aZFATJWl"
      },
      "execution_count": 127,
      "outputs": []
    },
    {
      "cell_type": "code",
      "source": [
        "# Restore the whole dataset\n",
        "X = np.vstack((X_train, X_test))\n",
        "y = np.hstack((y_train, y_test))\n",
        "\n",
        "# Make predictions on the dataset\n",
        "y_pred = RNN_model.predict(X, verbose = 0)\n",
        "\n",
        "# Find the highest and lowest values in the dataset\n",
        "max = np.max(df.iloc[:, [3]])\n",
        "min = np.min(df.iloc[:, [3]])\n",
        "\n",
        "# Unscale the predictions and the real values\n",
        "predictions = y_pred * (max - min) + min\n",
        "actual = y * (max - min) + min\n",
        "\n",
        "# Plot the prediction & true value against time graph\n",
        "plot_lo(predictions, actual)"
      ],
      "metadata": {
        "id": "zO5VFmMITMIN",
        "colab": {
          "base_uri": "https://localhost:8080/",
          "height": 449
        },
        "outputId": "2d1f9559-20ed-4408-f73f-4890c516cace"
      },
      "execution_count": 128,
      "outputs": [
        {
          "output_type": "display_data",
          "data": {
            "text/plain": [
              "<Figure size 640x480 with 1 Axes>"
            ],
            "image/png": "[encoded data removed]"
          },
          "metadata": {}
        }
      ]
    },
    {
      "cell_type": "markdown",
      "source": [
        "#**Apply the Model**"
      ],
      "metadata": {
        "id": "jFZrIAB5TX62"
      }
    },
    {
      "cell_type": "code",
      "source": [
        "# Load dataset for predictions\n",
        "df_pred, ts_pred = extract_column('Tasla_Stock_Updated_V2.csv', 3)\n",
        "X_pred, _ = get_XY(ts_pred, 12)\n",
        "\n",
        "# Make predictions on the dataset\n",
        "y_pred = RNN_model.predict(X_pred, verbose=0)\n",
        "\n",
        "# Unscale the predictions\n",
        "max = np.max(df_pred.iloc[:, [3]])\n",
        "min = np.min(df_pred.iloc[:, [3]])\n",
        "y_pred = y_pred * (max - min) + min\n",
        "\n",
        "# Get the stock price dates\n",
        "dates = df_pred['Date']\n",
        "\n",
        "# Combine the stock price dates and the predictions\n",
        "predictions = zip(dates, y_pred)\n",
        "\n",
        "# Print predictions\n",
        "print('Predictions:')\n",
        "for date, pred in predictions:\n",
        "  print(f'{pred[0]} will be the highest Tesla stock price on {date}.')"
      ],
      "metadata": {
        "id": "0UvoarmiTZKL",
        "colab": {
          "base_uri": "https://localhost:8080/"
        },
        "outputId": "c7032065-e1ab-46c6-dfa8-ee3b6d5da435"
      },
      "execution_count": 130,
      "outputs": [
        {
          "output_type": "stream",
          "name": "stdout",
          "text": [
            "Predictions:\n",
            "14.630593299865723 will be the highest Tesla stock price on 2015-01-02.\n",
            "18.78969955444336 will be the highest Tesla stock price on 2015-01-05.\n",
            "16.758981704711914 will be the highest Tesla stock price on 2015-01-06.\n",
            "15.46549129486084 will be the highest Tesla stock price on 2015-01-07.\n",
            "15.884561538696289 will be the highest Tesla stock price on 2015-01-08.\n",
            "17.97598648071289 will be the highest Tesla stock price on 2015-01-09.\n",
            "20.284210205078125 will be the highest Tesla stock price on 2015-01-12.\n",
            "19.668804168701172 will be the highest Tesla stock price on 2015-01-13.\n",
            "19.398170471191406 will be the highest Tesla stock price on 2015-01-14.\n",
            "21.092178344726562 will be the highest Tesla stock price on 2015-01-15.\n",
            "19.37242317199707 will be the highest Tesla stock price on 2015-01-16.\n",
            "19.228954315185547 will be the highest Tesla stock price on 2015-01-20.\n",
            "16.39504623413086 will be the highest Tesla stock price on 2015-01-21.\n",
            "18.064647674560547 will be the highest Tesla stock price on 2015-01-22.\n",
            "20.749130249023438 will be the highest Tesla stock price on 2015-01-23.\n",
            "17.14217758178711 will be the highest Tesla stock price on 2015-01-26.\n",
            "17.637598037719727 will be the highest Tesla stock price on 2015-01-27.\n",
            "19.436159133911133 will be the highest Tesla stock price on 2015-01-28.\n",
            "18.605220794677734 will be the highest Tesla stock price on 2015-01-29.\n",
            "16.788713455200195 will be the highest Tesla stock price on 2015-01-30.\n",
            "18.734601974487305 will be the highest Tesla stock price on 2015-02-02.\n",
            "15.30893325805664 will be the highest Tesla stock price on 2015-02-03.\n",
            "14.234334945678711 will be the highest Tesla stock price on 2015-02-04.\n",
            "17.28390884399414 will be the highest Tesla stock price on 2015-02-05.\n",
            "18.550235748291016 will be the highest Tesla stock price on 2015-02-06.\n",
            "18.898649215698242 will be the highest Tesla stock price on 2015-02-09.\n",
            "19.041812896728516 will be the highest Tesla stock price on 2015-02-10.\n",
            "18.083942413330078 will be the highest Tesla stock price on 2015-02-11.\n",
            "16.894187927246094 will be the highest Tesla stock price on 2015-02-12.\n",
            "18.359663009643555 will be the highest Tesla stock price on 2015-02-13.\n",
            "15.709051132202148 will be the highest Tesla stock price on 2015-02-17.\n",
            "18.831462860107422 will be the highest Tesla stock price on 2015-02-18.\n",
            "18.282909393310547 will be the highest Tesla stock price on 2015-02-19.\n",
            "17.831600189208984 will be the highest Tesla stock price on 2015-02-20.\n",
            "16.686798095703125 will be the highest Tesla stock price on 2015-02-23.\n",
            "16.831764221191406 will be the highest Tesla stock price on 2015-02-24.\n",
            "17.37388038635254 will be the highest Tesla stock price on 2015-02-25.\n",
            "16.476110458374023 will be the highest Tesla stock price on 2015-02-26.\n",
            "15.312115669250488 will be the highest Tesla stock price on 2015-02-27.\n",
            "16.767982482910156 will be the highest Tesla stock price on 2015-03-02.\n",
            "16.892242431640625 will be the highest Tesla stock price on 2015-03-03.\n",
            "18.639862060546875 will be the highest Tesla stock price on 2015-03-04.\n",
            "19.803068161010742 will be the highest Tesla stock price on 2015-03-05.\n",
            "19.48818588256836 will be the highest Tesla stock price on 2015-03-06.\n",
            "20.075374603271484 will be the highest Tesla stock price on 2015-03-09.\n",
            "18.620262145996094 will be the highest Tesla stock price on 2015-03-10.\n",
            "20.595123291015625 will be the highest Tesla stock price on 2015-03-11.\n",
            "22.729503631591797 will be the highest Tesla stock price on 2015-03-12.\n",
            "23.884117126464844 will be the highest Tesla stock price on 2015-03-13.\n",
            "22.42851448059082 will be the highest Tesla stock price on 2015-03-16.\n",
            "27.50075912475586 will be the highest Tesla stock price on 2015-03-17.\n",
            "26.706754684448242 will be the highest Tesla stock price on 2015-03-18.\n",
            "18.448223114013672 will be the highest Tesla stock price on 2015-03-19.\n",
            "25.047792434692383 will be the highest Tesla stock price on 2015-03-20.\n",
            "27.164691925048828 will be the highest Tesla stock price on 2015-03-23.\n",
            "24.87545394897461 will be the highest Tesla stock price on 2015-03-24.\n",
            "28.233095169067383 will be the highest Tesla stock price on 2015-03-25.\n",
            "23.202499389648438 will be the highest Tesla stock price on 2015-03-26.\n",
            "24.11200714111328 will be the highest Tesla stock price on 2015-03-27.\n",
            "20.192581176757812 will be the highest Tesla stock price on 2015-03-30.\n",
            "22.995288848876953 will be the highest Tesla stock price on 2015-03-31.\n",
            "25.37765121459961 will be the highest Tesla stock price on 2015-04-01.\n",
            "20.823911666870117 will be the highest Tesla stock price on 2015-04-02.\n",
            "26.060009002685547 will be the highest Tesla stock price on 2015-04-06.\n",
            "23.76842498779297 will be the highest Tesla stock price on 2015-04-07.\n",
            "26.263938903808594 will be the highest Tesla stock price on 2015-04-08.\n",
            "22.74956512451172 will be the highest Tesla stock price on 2015-04-09.\n",
            "18.424663543701172 will be the highest Tesla stock price on 2015-04-10.\n",
            "22.07715606689453 will be the highest Tesla stock price on 2015-04-13.\n",
            "21.335887908935547 will be the highest Tesla stock price on 2015-04-14.\n",
            "19.45150375366211 will be the highest Tesla stock price on 2015-04-15.\n",
            "24.316776275634766 will be the highest Tesla stock price on 2015-04-16.\n",
            "24.854026794433594 will be the highest Tesla stock price on 2015-04-17.\n",
            "19.448726654052734 will be the highest Tesla stock price on 2015-04-20.\n",
            "19.767122268676758 will be the highest Tesla stock price on 2015-04-21.\n",
            "25.036174774169922 will be the highest Tesla stock price on 2015-04-22.\n",
            "21.576313018798828 will be the highest Tesla stock price on 2015-04-23.\n",
            "22.630483627319336 will be the highest Tesla stock price on 2015-04-24.\n",
            "19.459348678588867 will be the highest Tesla stock price on 2015-04-27.\n",
            "22.852548599243164 will be the highest Tesla stock price on 2015-04-28.\n",
            "25.941869735717773 will be the highest Tesla stock price on 2015-04-29.\n",
            "23.98302459716797 will be the highest Tesla stock price on 2015-04-30.\n",
            "26.996610641479492 will be the highest Tesla stock price on 2015-05-01.\n",
            "21.84674835205078 will be the highest Tesla stock price on 2015-05-04.\n",
            "22.56131362915039 will be the highest Tesla stock price on 2015-05-05.\n",
            "24.259624481201172 will be the highest Tesla stock price on 2015-05-06.\n",
            "20.850866317749023 will be the highest Tesla stock price on 2015-05-07.\n",
            "20.688690185546875 will be the highest Tesla stock price on 2015-05-08.\n",
            "21.08749008178711 will be the highest Tesla stock price on 2015-05-11.\n",
            "19.90203094482422 will be the highest Tesla stock price on 2015-05-12.\n",
            "17.911041259765625 will be the highest Tesla stock price on 2015-05-13.\n",
            "14.38060188293457 will be the highest Tesla stock price on 2015-05-14.\n",
            "18.313495635986328 will be the highest Tesla stock price on 2015-05-15.\n",
            "18.224660873413086 will be the highest Tesla stock price on 2015-05-18.\n",
            "19.5611572265625 will be the highest Tesla stock price on 2015-05-19.\n",
            "17.027393341064453 will be the highest Tesla stock price on 2015-05-20.\n",
            "17.49717140197754 will be the highest Tesla stock price on 2015-05-21.\n",
            "18.40744400024414 will be the highest Tesla stock price on 2015-05-22.\n",
            "19.492881774902344 will be the highest Tesla stock price on 2015-05-26.\n",
            "18.729965209960938 will be the highest Tesla stock price on 2015-05-27.\n",
            "22.764514923095703 will be the highest Tesla stock price on 2015-05-28.\n",
            "25.560443878173828 will be the highest Tesla stock price on 2015-05-29.\n",
            "23.037471771240234 will be the highest Tesla stock price on 2015-06-01.\n",
            "28.28436851501465 will be the highest Tesla stock price on 2015-06-02.\n",
            "31.40764808654785 will be the highest Tesla stock price on 2015-06-03.\n",
            "40.84148406982422 will be the highest Tesla stock price on 2015-06-04.\n",
            "68.98277282714844 will be the highest Tesla stock price on 2015-06-05.\n",
            "57.45345687866211 will be the highest Tesla stock price on 2015-06-08.\n",
            "29.55989646911621 will be the highest Tesla stock price on 2015-06-09.\n",
            "44.237300872802734 will be the highest Tesla stock price on 2015-06-10.\n",
            "63.0900993347168 will be the highest Tesla stock price on 2015-06-11.\n",
            "53.689491271972656 will be the highest Tesla stock price on 2015-06-12.\n",
            "49.707027435302734 will be the highest Tesla stock price on 2015-06-15.\n",
            "62.54433822631836 will be the highest Tesla stock price on 2015-06-16.\n",
            "61.14472579956055 will be the highest Tesla stock price on 2015-06-17.\n",
            "120.20330810546875 will be the highest Tesla stock price on 2015-06-18.\n",
            "89.92941284179688 will be the highest Tesla stock price on 2015-06-19.\n",
            "114.70286560058594 will be the highest Tesla stock price on 2015-06-22.\n",
            "173.80877685546875 will be the highest Tesla stock price on 2015-06-23.\n",
            "164.12069702148438 will be the highest Tesla stock price on 2015-06-24.\n",
            "144.6527557373047 will be the highest Tesla stock price on 2015-06-25.\n",
            "132.2342987060547 will be the highest Tesla stock price on 2015-06-26.\n",
            "143.1265869140625 will be the highest Tesla stock price on 2015-06-29.\n",
            "211.20362854003906 will be the highest Tesla stock price on 2015-06-30.\n",
            "222.37823486328125 will be the highest Tesla stock price on 2015-07-01.\n",
            "247.35008239746094 will be the highest Tesla stock price on 2015-07-02.\n",
            "289.23236083984375 will be the highest Tesla stock price on 2015-07-06.\n",
            "293.5289611816406 will be the highest Tesla stock price on 2015-07-07.\n",
            "246.31689453125 will be the highest Tesla stock price on 2015-07-08.\n",
            "241.08457946777344 will be the highest Tesla stock price on 2015-07-09.\n",
            "212.88758850097656 will be the highest Tesla stock price on 2015-07-10.\n",
            "259.1197814941406 will be the highest Tesla stock price on 2015-07-13.\n",
            "230.99667358398438 will be the highest Tesla stock price on 2015-07-14.\n",
            "187.5119171142578 will be the highest Tesla stock price on 2015-07-15.\n",
            "200.80259704589844 will be the highest Tesla stock price on 2015-07-16.\n",
            "232.11228942871094 will be the highest Tesla stock price on 2015-07-17.\n",
            "225.87901306152344 will be the highest Tesla stock price on 2015-07-20.\n",
            "230.95242309570312 will be the highest Tesla stock price on 2015-07-21.\n",
            "237.47764587402344 will be the highest Tesla stock price on 2015-07-22.\n",
            "253.10214233398438 will be the highest Tesla stock price on 2015-07-23.\n",
            "256.0730285644531 will be the highest Tesla stock price on 2015-07-24.\n",
            "271.9466857910156 will be the highest Tesla stock price on 2015-07-27.\n",
            "321.2015075683594 will be the highest Tesla stock price on 2015-07-28.\n",
            "351.94793701171875 will be the highest Tesla stock price on 2015-07-29.\n",
            "353.6265869140625 will be the highest Tesla stock price on 2015-07-30.\n",
            "325.4786376953125 will be the highest Tesla stock price on 2015-07-31.\n",
            "355.08087158203125 will be the highest Tesla stock price on 2015-08-03.\n",
            "338.6357421875 will be the highest Tesla stock price on 2015-08-04.\n",
            "314.42169189453125 will be the highest Tesla stock price on 2015-08-05.\n",
            "283.00592041015625 will be the highest Tesla stock price on 2015-08-06.\n",
            "278.86309814453125 will be the highest Tesla stock price on 2015-08-07.\n",
            "346.1485290527344 will be the highest Tesla stock price on 2015-08-10.\n",
            "326.49444580078125 will be the highest Tesla stock price on 2015-08-11.\n",
            "302.2948913574219 will be the highest Tesla stock price on 2015-08-12.\n",
            "249.41664123535156 will be the highest Tesla stock price on 2015-08-13.\n",
            "258.533447265625 will be the highest Tesla stock price on 2015-08-14.\n",
            "255.71133422851562 will be the highest Tesla stock price on 2015-08-17.\n",
            "253.8822021484375 will be the highest Tesla stock price on 2015-08-18.\n",
            "298.70330810546875 will be the highest Tesla stock price on 2015-08-19.\n",
            "307.9336853027344 will be the highest Tesla stock price on 2015-08-20.\n",
            "284.7350158691406 will be the highest Tesla stock price on 2015-08-21.\n",
            "311.76959228515625 will be the highest Tesla stock price on 2015-08-24.\n",
            "237.64263916015625 will be the highest Tesla stock price on 2015-08-25.\n",
            "223.88194274902344 will be the highest Tesla stock price on 2015-08-26.\n",
            "185.92466735839844 will be the highest Tesla stock price on 2015-08-27.\n",
            "175.90464782714844 will be the highest Tesla stock price on 2015-08-28.\n",
            "156.99510192871094 will be the highest Tesla stock price on 2015-08-31.\n",
            "91.48806762695312 will be the highest Tesla stock price on 2015-09-01.\n",
            "141.50889587402344 will be the highest Tesla stock price on 2015-09-02.\n",
            "217.22210693359375 will be the highest Tesla stock price on 2015-09-03.\n",
            "207.91127014160156 will be the highest Tesla stock price on 2015-09-04.\n",
            "170.2877960205078 will be the highest Tesla stock price on 2015-09-08.\n",
            "203.5028839111328 will be the highest Tesla stock price on 2015-09-09.\n",
            "185.22157287597656 will be the highest Tesla stock price on 2015-09-10.\n",
            "167.74349975585938 will be the highest Tesla stock price on 2015-09-11.\n",
            "189.49208068847656 will be the highest Tesla stock price on 2015-09-14.\n",
            "255.0733642578125 will be the highest Tesla stock price on 2015-09-15.\n",
            "265.4678955078125 will be the highest Tesla stock price on 2015-09-16.\n",
            "286.72100830078125 will be the highest Tesla stock price on 2015-09-17.\n",
            "267.6970520019531 will be the highest Tesla stock price on 2015-09-18.\n",
            "224.50567626953125 will be the highest Tesla stock price on 2015-09-21.\n",
            "269.69049072265625 will be the highest Tesla stock price on 2015-09-22.\n",
            "269.8088684082031 will be the highest Tesla stock price on 2015-09-23.\n",
            "272.9240417480469 will be the highest Tesla stock price on 2015-09-24.\n",
            "203.68402099609375 will be the highest Tesla stock price on 2015-09-25.\n",
            "231.15643310546875 will be the highest Tesla stock price on 2015-09-28.\n",
            "250.54615783691406 will be the highest Tesla stock price on 2015-09-29.\n",
            "258.90765380859375 will be the highest Tesla stock price on 2015-09-30.\n",
            "247.88916015625 will be the highest Tesla stock price on 2015-10-01.\n"
          ]
        }
      ]
    }
  ]
}